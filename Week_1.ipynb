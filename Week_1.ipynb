{
  "cells": [
    {
      "cell_type": "markdown",
      "id": "0be214bb",
      "metadata": {
        "id": "0be214bb"
      },
      "source": [
        "## Python Strings"
      ]
    },
    {
      "cell_type": "code",
      "execution_count": null,
      "id": "2ee93a1d",
      "metadata": {
        "id": "2ee93a1d",
        "outputId": "18b5d2a2-f704-4f83-92ff-93fbca82a0a8"
      },
      "outputs": [
        {
          "name": "stdout",
          "output_type": "stream",
          "text": [
            "e\n",
            "llo\n"
          ]
        }
      ],
      "source": [
        "a = \"Hello, World!\"\n",
        "print(a[1])  # This will print 'e'\n",
        "b = \"Hello, World!\"\n",
        "print(b[2:5])  # This will print 'llo'"
      ]
    },
    {
      "cell_type": "markdown",
      "id": "558f6097",
      "metadata": {
        "id": "558f6097"
      },
      "source": [
        "## More string functions"
      ]
    },
    {
      "cell_type": "code",
      "execution_count": 1,
      "id": "e793184b",
      "metadata": {
        "colab": {
          "base_uri": "https://localhost:8080/"
        },
        "id": "e793184b",
        "outputId": "a6316cfe-2857-4e21-bf35-fad74379925b"
      },
      "outputs": [
        {
          "output_type": "stream",
          "name": "stdout",
          "text": [
            "6\n",
            "ANJALI\n",
            "anjali\n"
          ]
        }
      ],
      "source": [
        "# Assign the string \"Anjali\" to the variable a\n",
        "a = \"Anjali\"\n",
        "\n",
        "# Print the length of the string stored in a\n",
        "print(len(a))  # Outputs the number of characters in the string, including spaces and punctuation\n",
        "\n",
        "# Convert the string in a to uppercase and print it\n",
        "print(a.upper())  # Outputs \"ANJALI\"\n",
        "\n",
        "# Convert the string in a to lowercase and print it\n",
        "print(a.lower())  # Outputs \"anjali\""
      ]
    },
    {
      "cell_type": "markdown",
      "id": "234cbea6",
      "metadata": {
        "id": "234cbea6"
      },
      "source": [
        "## String Methods"
      ]
    },
    {
      "cell_type": "code",
      "execution_count": 2,
      "id": "4a10f609",
      "metadata": {
        "colab": {
          "base_uri": "https://localhost:8080/"
        },
        "id": "4a10f609",
        "outputId": "4bbe30d8-dece-4f5d-afcc-c64540f47a60"
      },
      "outputs": [
        {
          "output_type": "stream",
          "name": "stdout",
          "text": [
            "String after lstrip(): Anjali  \n",
            "String after rstrip():   Anjali\n"
          ]
        }
      ],
      "source": [
        "# Initialize a string with leading and trailing spaces\n",
        "example_string = \"  Anjali  \"\n",
        "\n",
        "# Use the lstrip() method to remove leading spaces and print the result\n",
        "print(\"String after lstrip():\", example_string.lstrip())\n",
        "# Outputs the string with leading spaces removed, but trailing spaces are still present\n",
        "\n",
        "# Use the rstrip() method to remove trailing spaces and print the result\n",
        "print(\"String after rstrip():\", example_string.rstrip())\n",
        "# Outputs the string with trailing spaces removed, but leading spaces are still present"
      ]
    },
    {
      "cell_type": "markdown",
      "id": "f7993901",
      "metadata": {
        "id": "f7993901"
      },
      "source": [
        "## Slicing String"
      ]
    },
    {
      "cell_type": "code",
      "execution_count": 4,
      "id": "4ce3606d",
      "metadata": {
        "colab": {
          "base_uri": "https://localhost:8080/"
        },
        "id": "4ce3606d",
        "outputId": "0f34cdf0-6489-4caf-a98d-69ea1f7e7805"
      },
      "outputs": [
        {
          "output_type": "stream",
          "name": "stdout",
          "text": [
            "Slice 1: Anjal\n",
            "Slice 2: Sing\n",
            "Slice 3: ngh\n"
          ]
        }
      ],
      "source": [
        "# Initialize a string variable\n",
        "text = \"AnjaliSingh\"\n",
        "\n",
        "# Slice the string from index 0 to 5 (not including 5) and store it in slice1\n",
        "slice1 = text[0:5]  # Extracts \"Anjal\"\n",
        "# Slice the string from index 6 to 10 (not including 10) and store it in slice2\n",
        "slice2 = text[6:10] # Extracts \"Sing\"\n",
        "# Slice the string from index 8 to 12 (not including 12) and store it in slice3\n",
        "slice3 = text[8:12] # Extracts \"ngh\"\n",
        "\n",
        "# Print the results of the slicing\n",
        "print(\"Slice 1:\", slice1) # Outputs \"Slice 1: Anjal\"\n",
        "print(\"Slice 2:\", slice2) # Outputs \"Slice 2: Sing\"\n",
        "print(\"Slice 3:\", slice3) # Outputs \"Slice 3: ngh\""
      ]
    },
    {
      "cell_type": "markdown",
      "id": "09b8e65f",
      "metadata": {
        "id": "09b8e65f"
      },
      "source": [
        "## Splitting a String"
      ]
    },
    {
      "cell_type": "code",
      "execution_count": null,
      "id": "6dec0cfe",
      "metadata": {
        "id": "6dec0cfe",
        "outputId": "943f944c-84c6-4355-e574-a3a810560651"
      },
      "outputs": [
        {
          "name": "stdout",
          "output_type": "stream",
          "text": [
            "['One', 'two', 'three', 'four']\n",
            "['1', '2', '3', '4', '5']\n"
          ]
        }
      ],
      "source": [
        "# Initialize a string variable\n",
        "my_string = 'One two three four'\n",
        "# Split the string into a list of words using default delimiter (space)\n",
        "word_list = my_string.split()\n",
        "# Print the list of words\n",
        "print(word_list)  # Outputs ['One', 'two', 'three', 'four']\n",
        "\n",
        "# Reassign a new string with numbers separated by slashes to the variable\n",
        "my_string = '1/2/3/4/5'\n",
        "# Split the string into a list using '/' as the delimiter\n",
        "number_list = my_string.split('/')\n",
        "# Print the list of numbers as strings\n",
        "print(number_list)  # Outputs ['1', '2', '3', '4', '5']"
      ]
    }
  ],
  "metadata": {
    "kernelspec": {
      "display_name": "Python 3 (ipykernel)",
      "language": "python",
      "name": "python3"
    },
    "language_info": {
      "codemirror_mode": {
        "name": "ipython",
        "version": 3
      },
      "file_extension": ".py",
      "mimetype": "text/x-python",
      "name": "python",
      "nbconvert_exporter": "python",
      "pygments_lexer": "ipython3",
      "version": "3.11.5"
    },
    "colab": {
      "provenance": []
    }
  },
  "nbformat": 4,
  "nbformat_minor": 5
}