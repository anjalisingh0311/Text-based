{
  "nbformat": 4,
  "nbformat_minor": 0,
  "metadata": {
    "colab": {
      "provenance": []
    },
    "kernelspec": {
      "name": "python3",
      "display_name": "Python 3"
    },
    "language_info": {
      "name": "python"
    }
  },
  "cells": [
    {
      "cell_type": "markdown",
      "source": [
        "# ***Importing the modules***"
      ],
      "metadata": {
        "id": "edvsYSFrndw3"
      }
    },
    {
      "cell_type": "code",
      "execution_count": 1,
      "metadata": {
        "id": "FI5sDs7unFll"
      },
      "outputs": [],
      "source": [
        "from nltk.corpus import stopwords\n",
        "#you can remove stop words forspeed\n",
        "from nltk.cluster.util import cosine_distance\n",
        "import numpy as np\n",
        "import networkx as nx"
      ]
    },
    {
      "cell_type": "markdown",
      "source": [
        "# ***Opening the file***"
      ],
      "metadata": {
        "id": "HwITwkGbnj8o"
      }
    },
    {
      "cell_type": "code",
      "source": [
        "file = open(\"//content//Text1.txt\",\"r\")\n",
        "#This file contains one paragraph of multiple sentences\n",
        "filedata = file.readlines()\n",
        "article = filedata[0].split(\". \") #Just do the first paragraph"
      ],
      "metadata": {
        "id": "0--b3eTynbHI"
      },
      "execution_count": 2,
      "outputs": []
    },
    {
      "cell_type": "markdown",
      "source": [
        "# ***Spliting into the sentences***"
      ],
      "metadata": {
        "id": "IZW-FYnFoXT_"
      }
    },
    {
      "cell_type": "code",
      "source": [
        "sentences = []\n",
        "for sentence in article:\n",
        "  print(sentence)\n",
        "  sentences.append(sentence.replace(\"[^a-zA-Z]\", \" \").split(\" \"))"
      ],
      "metadata": {
        "colab": {
          "base_uri": "https://localhost:8080/"
        },
        "id": "aZPlO3OQoWp3",
        "outputId": "bc290d7f-a63e-43bb-8442-5dedc674aaeb"
      },
      "execution_count": 3,
      "outputs": [
        {
          "output_type": "stream",
          "name": "stdout",
          "text": [
            "It was the best of times\n",
            "It was the worst of times\n",
            "It was the age of wisdom\n",
            "It was the age of foolishness\n",
            "What is the importance of age\n",
            "This is the best example.\n"
          ]
        }
      ]
    },
    {
      "cell_type": "markdown",
      "source": [
        "# ***A list of sentences***"
      ],
      "metadata": {
        "id": "9QdC_PWOotsm"
      }
    },
    {
      "cell_type": "code",
      "source": [
        "print(\"Sentences are \", sentences)"
      ],
      "metadata": {
        "colab": {
          "base_uri": "https://localhost:8080/"
        },
        "id": "CRbi7FLyooxF",
        "outputId": "87f09cc5-b246-48bd-f27b-774bd6c2139f"
      },
      "execution_count": 4,
      "outputs": [
        {
          "output_type": "stream",
          "name": "stdout",
          "text": [
            "Sentences are  [['It', 'was', 'the', 'best', 'of', 'times'], ['It', 'was', 'the', 'worst', 'of', 'times'], ['It', 'was', 'the', 'age', 'of', 'wisdom'], ['It', 'was', 'the', 'age', 'of', 'foolishness'], ['What', 'is', 'the', 'importance', 'of', 'age'], ['This', 'is', 'the', 'best', 'example.']]\n"
          ]
        }
      ]
    },
    {
      "cell_type": "markdown",
      "source": [
        "# ***Counting the number of common words***"
      ],
      "metadata": {
        "id": "mYcXxRoyo5KX"
      }
    },
    {
      "cell_type": "code",
      "source": [
        "def sentence_similarity(sent1, sent2 ):\n",
        "  sent1 = [w.lower() for w in sent1]\n",
        "  sent2 = [w.lower() for w in sent2]\n",
        "  all_words = list(set(sent1 + sent2))\n",
        "  vector1 = [0] * len(all_words)\n",
        "  vector2 = [0] * len(all_words)\n",
        "  # build the vector for the first sentence\n",
        "  for w in sent1:\n",
        "    vector1[all_words.index(w)] += 1\n",
        "    # build the vector for the second sentence\n",
        "    for w in sent2:\n",
        "      vector2[all_words.index(w)] += 1\n",
        "      return 1 - cosine_distance(vector1, vector2)\n"
      ],
      "metadata": {
        "id": "LdT-tOXioyVJ"
      },
      "execution_count": 5,
      "outputs": []
    },
    {
      "cell_type": "markdown",
      "source": [
        "# ***Creating the similar matrix***"
      ],
      "metadata": {
        "id": "DxGarD5QpZeF"
      }
    },
    {
      "cell_type": "code",
      "source": [
        "similarity_matrix = np.zeros((len(sentences), len(sentences)))\n",
        "for idx1 in range(len(sentences)):\n",
        " for idx2 in range(len(sentences)):\n",
        "  if idx1 == idx2:\n",
        " #ignore if both are same sentences continue\n",
        "   similarity_matrix[idx1][idx2] = sentence_similarity(sentences[idx1],sentences[idx2])\n",
        "   print(\"Smilarity matrix \\n\", similarity_matrix)"
      ],
      "metadata": {
        "colab": {
          "base_uri": "https://localhost:8080/"
        },
        "id": "qVjRB901pYnd",
        "outputId": "15b0ef31-d308-4829-98bc-8d6aeda2299a"
      },
      "execution_count": 6,
      "outputs": [
        {
          "output_type": "stream",
          "name": "stdout",
          "text": [
            "Smilarity matrix \n",
            " [[1. 0. 0. 0. 0. 0.]\n",
            " [0. 0. 0. 0. 0. 0.]\n",
            " [0. 0. 0. 0. 0. 0.]\n",
            " [0. 0. 0. 0. 0. 0.]\n",
            " [0. 0. 0. 0. 0. 0.]\n",
            " [0. 0. 0. 0. 0. 0.]]\n",
            "Smilarity matrix \n",
            " [[1. 0. 0. 0. 0. 0.]\n",
            " [0. 1. 0. 0. 0. 0.]\n",
            " [0. 0. 0. 0. 0. 0.]\n",
            " [0. 0. 0. 0. 0. 0.]\n",
            " [0. 0. 0. 0. 0. 0.]\n",
            " [0. 0. 0. 0. 0. 0.]]\n",
            "Smilarity matrix \n",
            " [[1. 0. 0. 0. 0. 0.]\n",
            " [0. 1. 0. 0. 0. 0.]\n",
            " [0. 0. 1. 0. 0. 0.]\n",
            " [0. 0. 0. 0. 0. 0.]\n",
            " [0. 0. 0. 0. 0. 0.]\n",
            " [0. 0. 0. 0. 0. 0.]]\n",
            "Smilarity matrix \n",
            " [[1. 0. 0. 0. 0. 0.]\n",
            " [0. 1. 0. 0. 0. 0.]\n",
            " [0. 0. 1. 0. 0. 0.]\n",
            " [0. 0. 0. 1. 0. 0.]\n",
            " [0. 0. 0. 0. 0. 0.]\n",
            " [0. 0. 0. 0. 0. 0.]]\n",
            "Smilarity matrix \n",
            " [[1. 0. 0. 0. 0. 0.]\n",
            " [0. 1. 0. 0. 0. 0.]\n",
            " [0. 0. 1. 0. 0. 0.]\n",
            " [0. 0. 0. 1. 0. 0.]\n",
            " [0. 0. 0. 0. 1. 0.]\n",
            " [0. 0. 0. 0. 0. 0.]]\n",
            "Smilarity matrix \n",
            " [[1. 0. 0. 0. 0. 0.]\n",
            " [0. 1. 0. 0. 0. 0.]\n",
            " [0. 0. 1. 0. 0. 0.]\n",
            " [0. 0. 0. 1. 0. 0.]\n",
            " [0. 0. 0. 0. 1. 0.]\n",
            " [0. 0. 0. 0. 0. 1.]]\n"
          ]
        }
      ]
    },
    {
      "cell_type": "markdown",
      "source": [
        "# ***Page rank score***"
      ],
      "metadata": {
        "id": "fZBG-xTtqjV4"
      }
    },
    {
      "cell_type": "code",
      "source": [
        "# Step 3 - Rank sentences in similarity martix\n",
        "sentence_similarity_graph =nx.from_numpy_array(similarity_matrix)\n",
        "scores = nx.pagerank(sentence_similarity_graph)\n",
        "print(\"scores\", scores)"
      ],
      "metadata": {
        "colab": {
          "base_uri": "https://localhost:8080/"
        },
        "id": "-_xeUWJDqfFl",
        "outputId": "3c5a723c-966a-475f-e97d-5460793dad54"
      },
      "execution_count": 7,
      "outputs": [
        {
          "output_type": "stream",
          "name": "stdout",
          "text": [
            "scores {0: 0.16666666666666666, 1: 0.16666666666666666, 2: 0.16666666666666666, 3: 0.16666666666666666, 4: 0.16666666666666666, 5: 0.16666666666666666}\n"
          ]
        }
      ]
    },
    {
      "cell_type": "markdown",
      "source": [
        "# ***Sort sentences by pagemark***"
      ],
      "metadata": {
        "id": "os_NhakesVmC"
      }
    },
    {
      "cell_type": "code",
      "source": [
        "# Step 4 - Sort the rank and pick top sentences\n",
        "ranked_sentence = sorted(((scores[i],s) for i,s in enumerate(sentences)), reverse=True)\n",
        "print(\"Indexes of top ranked_sentence order are \\n\\n\",ranked_sentence)\n"
      ],
      "metadata": {
        "colab": {
          "base_uri": "https://localhost:8080/"
        },
        "id": "_d4Vebe7sN_N",
        "outputId": "9f6be1cf-94b0-477c-f48b-e52048d88477"
      },
      "execution_count": 8,
      "outputs": [
        {
          "output_type": "stream",
          "name": "stdout",
          "text": [
            "Indexes of top ranked_sentence order are \n",
            "\n",
            " [(0.16666666666666666, ['What', 'is', 'the', 'importance', 'of', 'age']), (0.16666666666666666, ['This', 'is', 'the', 'best', 'example.']), (0.16666666666666666, ['It', 'was', 'the', 'worst', 'of', 'times']), (0.16666666666666666, ['It', 'was', 'the', 'best', 'of', 'times']), (0.16666666666666666, ['It', 'was', 'the', 'age', 'of', 'wisdom']), (0.16666666666666666, ['It', 'was', 'the', 'age', 'of', 'foolishness'])]\n"
          ]
        }
      ]
    },
    {
      "cell_type": "markdown",
      "source": [
        "# ***Picking the top \"n\" sentences***"
      ],
      "metadata": {
        "id": "7Azmb5vftmG9"
      }
    },
    {
      "cell_type": "code",
      "source": [
        "# Step 5 - Generate the summary text\n",
        "summarize_text = []\n",
        "for i in range(len(ranked_sentence)):\n",
        "    summarize_text.append(\" \".join(ranked_sentence[i][1]))\n",
        "\n",
        "\n"
      ],
      "metadata": {
        "id": "cD57e40V7Fpc"
      },
      "execution_count": 9,
      "outputs": []
    },
    {
      "cell_type": "markdown",
      "source": [
        "# ***Finishing of by printing summary***"
      ],
      "metadata": {
        "id": "QIxb7HTuuh3W"
      }
    },
    {
      "cell_type": "code",
      "source": [
        "print(\"Summarize Text: \\n\", \". \".join(summarize_text))"
      ],
      "metadata": {
        "colab": {
          "base_uri": "https://localhost:8080/"
        },
        "id": "PmC0AEexL8Xh",
        "outputId": "ba81635c-26ad-46ef-9286-d66ec1752e68"
      },
      "execution_count": 10,
      "outputs": [
        {
          "output_type": "stream",
          "name": "stdout",
          "text": [
            "Summarize Text: \n",
            " What is the importance of age. This is the best example.. It was the worst of times. It was the best of times. It was the age of wisdom. It was the age of foolishness\n"
          ]
        }
      ]
    }
  ]
}