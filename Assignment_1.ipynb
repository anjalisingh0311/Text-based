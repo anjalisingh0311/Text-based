{
  "nbformat": 4,
  "nbformat_minor": 0,
  "metadata": {
    "colab": {
      "provenance": []
    },
    "kernelspec": {
      "name": "python3",
      "display_name": "Python 3"
    },
    "language_info": {
      "name": "python"
    }
  },
  "cells": [
    {
      "cell_type": "markdown",
      "source": [
        "***Checking if a string matches a pattern ***"
      ],
      "metadata": {
        "id": "x28gipXDYvdK"
      }
    },
    {
      "cell_type": "code",
      "execution_count": 21,
      "metadata": {
        "id": "1W2cMpK_SVwT",
        "colab": {
          "base_uri": "https://localhost:8080/"
        },
        "outputId": "d7bf5a4f-d9cf-4464-f7f6-587e17bcf95b"
      },
      "outputs": [
        {
          "output_type": "stream",
          "name": "stdout",
          "text": [
            "Valid password\n"
          ]
        }
      ],
      "source": [
        "#checking if a string matches a pattern or not:\n",
        "\n",
        "import re\n",
        "\n",
        "text = \"Anjali000\"\n",
        "if re.match(r'[A-Za-z0-9@#$%^&+=]{8,}', text):\n",
        "    print(\"Valid password\")\n",
        "else:\n",
        "    print(\"Invalid password\")\n"
      ]
    },
    {
      "cell_type": "markdown",
      "source": [
        "***Matching a specific pattern in a string***"
      ],
      "metadata": {
        "id": "PfFyP615YqEO"
      }
    },
    {
      "cell_type": "code",
      "source": [
        "#Matching a specific pattern in a string\n",
        "\n",
        "import re\n",
        "\n",
        "text = \"This is my bag and my name is anjali singh\"\n",
        "pattern = r'\\b[mM]\\w+'  # Matches words starting with 'm' or 'M'\n",
        "matches = re.findall(pattern, text)\n",
        "print(matches)\n",
        "\n"
      ],
      "metadata": {
        "colab": {
          "base_uri": "https://localhost:8080/"
        },
        "id": "_BKH7-hkS3o1",
        "outputId": "32479dfd-b397-4858-ec1b-715c243a88a4"
      },
      "execution_count": 22,
      "outputs": [
        {
          "output_type": "stream",
          "name": "stdout",
          "text": [
            "['my', 'my']\n"
          ]
        }
      ]
    },
    {
      "cell_type": "markdown",
      "source": [
        "***Extracting emal addresses from a string***"
      ],
      "metadata": {
        "id": "GJsAhGveYkaH"
      }
    },
    {
      "cell_type": "code",
      "source": [
        "#Extracting email addresses from a string\n",
        "\n",
        "import re\n",
        "\n",
        "text = \"Contact us at singha17@gmail.com\"\n",
        "emails = re.findall(r'\\b[A-Za-z0-9._%+-]+@[A-Za-z0-9.-]+\\.[A-Z|a-z]{2,}\\b', text)\n",
        "print(emails)\n"
      ],
      "metadata": {
        "colab": {
          "base_uri": "https://localhost:8080/"
        },
        "id": "POc9m_EiTuUF",
        "outputId": "7514d21f-b01c-4357-c969-e3a470765080"
      },
      "execution_count": 23,
      "outputs": [
        {
          "output_type": "stream",
          "name": "stdout",
          "text": [
            "['singha17@gmail.com']\n"
          ]
        }
      ]
    },
    {
      "cell_type": "markdown",
      "source": [
        "***Replacing matched patterns in a string***"
      ],
      "metadata": {
        "id": "MbQkcpsMYesI"
      }
    },
    {
      "cell_type": "code",
      "source": [
        "#Replacing matched patterns in a string\n",
        "\n",
        "import re\n",
        "\n",
        "text = \"The cat sat on the mat.\"\n",
        "updated_text = re.sub(r'cat', 'dog', text)\n",
        "print(updated_text)\n"
      ],
      "metadata": {
        "colab": {
          "base_uri": "https://localhost:8080/"
        },
        "id": "MtefdLmIUYu7",
        "outputId": "344a4039-df72-4145-ad0d-30b1e37e4880"
      },
      "execution_count": 24,
      "outputs": [
        {
          "output_type": "stream",
          "name": "stdout",
          "text": [
            "The dog sat on the mat.\n"
          ]
        }
      ]
    },
    {
      "cell_type": "markdown",
      "source": [
        "***Joining the strings***"
      ],
      "metadata": {
        "id": "AMThD-SPYbBw"
      }
    },
    {
      "cell_type": "code",
      "source": [
        "#joining the strings\n",
        "\n",
        "words = [\"Hello\", \"Anjali\", \"!\"]\n",
        "sentence = \" \".join(words)\n",
        "print(sentence)\n",
        "\n"
      ],
      "metadata": {
        "colab": {
          "base_uri": "https://localhost:8080/"
        },
        "id": "BqlMYLF-VBE4",
        "outputId": "e6536797-2743-438b-97da-190f2e6d6c08"
      },
      "execution_count": 25,
      "outputs": [
        {
          "output_type": "stream",
          "name": "stdout",
          "text": [
            "Hello Anjali !\n"
          ]
        }
      ]
    },
    {
      "cell_type": "markdown",
      "source": [
        "***Finding strings***"
      ],
      "metadata": {
        "id": "M18kU43GYXrc"
      }
    },
    {
      "cell_type": "code",
      "source": [
        "#Finding strings\n",
        "\n",
        "my_string = \"Hey, Anjali!\"\n",
        "index = my_string.find(\"Anjali\")\n",
        "print(index)\n"
      ],
      "metadata": {
        "colab": {
          "base_uri": "https://localhost:8080/"
        },
        "id": "xCF98DujVeH0",
        "outputId": "c10a85c2-079a-48c2-b507-97f89bc534f3"
      },
      "execution_count": 26,
      "outputs": [
        {
          "output_type": "stream",
          "name": "stdout",
          "text": [
            "5\n"
          ]
        }
      ]
    },
    {
      "cell_type": "markdown",
      "source": [
        "***String reversal***"
      ],
      "metadata": {
        "id": "ZeWLjTSEYUHU"
      }
    },
    {
      "cell_type": "code",
      "source": [
        "#String reversal\n",
        "\n",
        "my_string = \"Anjali, singh!\"\n",
        "reversed_string = my_string[::-1]\n",
        "print(reversed_string)\n",
        "\n"
      ],
      "metadata": {
        "colab": {
          "base_uri": "https://localhost:8080/"
        },
        "id": "AclyHYCYVwhO",
        "outputId": "a6e3f2d4-286d-4df2-d7f9-a973b8b67f0c"
      },
      "execution_count": 27,
      "outputs": [
        {
          "output_type": "stream",
          "name": "stdout",
          "text": [
            "!hgnis ,ilajnA\n"
          ]
        }
      ]
    },
    {
      "cell_type": "markdown",
      "source": [
        "***String case conversion***"
      ],
      "metadata": {
        "id": "DYllN2bYYQLB"
      }
    },
    {
      "cell_type": "code",
      "source": [
        "#String case conversion\n",
        "\n",
        "my_string = \"Hey miss Anjali\"\n",
        "print(my_string.lower())\n",
        "print(my_string.upper())\n"
      ],
      "metadata": {
        "colab": {
          "base_uri": "https://localhost:8080/"
        },
        "id": "HLPRUrAfWRjo",
        "outputId": "27158d9c-69be-40c6-c99e-7500e5b4f814"
      },
      "execution_count": 28,
      "outputs": [
        {
          "output_type": "stream",
          "name": "stdout",
          "text": [
            "hey miss anjali\n",
            "HEY MISS ANJALI\n"
          ]
        }
      ]
    },
    {
      "cell_type": "markdown",
      "source": [
        "***String comparison***"
      ],
      "metadata": {
        "id": "TxWYqT7yYLc2"
      }
    },
    {
      "cell_type": "code",
      "source": [
        "#string comparison\n",
        "\n",
        "str1 = \"Anjali\"\n",
        "str2 = \"singh\"\n",
        "print(str1 == str2)\n",
        "print(str1 < str2)\n"
      ],
      "metadata": {
        "colab": {
          "base_uri": "https://localhost:8080/"
        },
        "id": "7c57BBo2XBBh",
        "outputId": "9cd7380f-dd69-4561-cada-957ffce07abf"
      },
      "execution_count": 29,
      "outputs": [
        {
          "output_type": "stream",
          "name": "stdout",
          "text": [
            "False\n",
            "True\n"
          ]
        }
      ]
    },
    {
      "cell_type": "markdown",
      "source": [
        "***Checking prefixes and suffeixes***"
      ],
      "metadata": {
        "id": "2MIRTt0uYFpb"
      }
    },
    {
      "cell_type": "code",
      "source": [
        "#checking prefixes and suffeixes\n",
        "\n",
        "my_string = \"Hey, World!\"\n",
        "print(my_string.startswith(\"Hey\"))\n",
        "print(my_string.endswith(\"!\"))\n"
      ],
      "metadata": {
        "colab": {
          "base_uri": "https://localhost:8080/"
        },
        "id": "nLOeXjptXu6d",
        "outputId": "b0e66ebe-2e82-47a0-c69b-9141db678df3"
      },
      "execution_count": 30,
      "outputs": [
        {
          "output_type": "stream",
          "name": "stdout",
          "text": [
            "True\n",
            "True\n"
          ]
        }
      ]
    }
  ]
}