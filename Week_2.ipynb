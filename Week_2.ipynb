{
  "cells": [
    {
      "cell_type": "markdown",
      "id": "0be214bb",
      "metadata": {
        "id": "0be214bb"
      },
      "source": [
        "## Python Strings:\n",
        "In Python, a string is a sequence of characters enclosed within either single quotes (''), double quotes (\"\") or triple quotes (''' ''' or \"\"\" \"\"\"). Strings are used to represent textual data in Python programs. They can contain letters, numbers, symbols, and whitespace characters."
      ]
    },
    {
      "cell_type": "code",
      "execution_count": null,
      "id": "2ee93a1d",
      "metadata": {
        "id": "2ee93a1d",
        "outputId": "3200a023-1ca9-46d1-e6f8-1dbbb3209fca"
      },
      "outputs": [
        {
          "name": "stdout",
          "output_type": "stream",
          "text": [
            "e\n",
            "llo\n"
          ]
        }
      ],
      "source": [
        "a = \"Hello, World!\"\n",
        "print(a[1])  # This will print 'e'\n",
        "b = \"Hello, World!\"\n",
        "print(b[2:5])  # This will print 'llo'"
      ]
    },
    {
      "cell_type": "markdown",
      "id": "558f6097",
      "metadata": {
        "id": "558f6097"
      },
      "source": [
        "## More string functions\n",
        "This code converts the string s to uppercase using the upper() function, and then splits the string into a list of words using the split() function.\n",
        "\n",
        "\n",
        "\n",
        "\n",
        "\n"
      ]
    },
    {
      "cell_type": "code",
      "execution_count": 3,
      "id": "e793184b",
      "metadata": {
        "colab": {
          "base_uri": "https://localhost:8080/"
        },
        "id": "e793184b",
        "outputId": "9bb78079-bc85-4033-85c5-942d7605ffc7"
      },
      "outputs": [
        {
          "output_type": "stream",
          "name": "stdout",
          "text": [
            "6\n",
            "ANJALI\n",
            "anjali\n"
          ]
        }
      ],
      "source": [
        "# Assign the string \"Rohith\" to the variable a\n",
        "a = \"Anjali\"\n",
        "\n",
        "# Print the length of the string stored in a\n",
        "print(len(a))  # Outputs the number of characters in the string, including spaces and punctuation\n",
        "\n",
        "# Convert the string in a to uppercase and print it\n",
        "print(a.upper())  # Outputs \"ANJALI\"\n",
        "\n",
        "# Convert the string in a to lowercase and print it\n",
        "print(a.lower())  # Outputs \"anjali\""
      ]
    },
    {
      "cell_type": "markdown",
      "id": "234cbea6",
      "metadata": {
        "id": "234cbea6"
      },
      "source": [
        "## String Methods\n",
        "String methods in Python are functions that operate on strings. They allow you to perform various operations like manipulation, searching, and formatting. Examples include upper() for converting to uppercase and split() for dividing a string into substrings.\n",
        "\n",
        "\n",
        "\n",
        "\n",
        "\n"
      ]
    },
    {
      "cell_type": "code",
      "execution_count": 2,
      "id": "4a10f609",
      "metadata": {
        "colab": {
          "base_uri": "https://localhost:8080/"
        },
        "id": "4a10f609",
        "outputId": "e2a0ed08-229a-4a96-8b8f-075cedee9447"
      },
      "outputs": [
        {
          "output_type": "stream",
          "name": "stdout",
          "text": [
            "String after lstrip(): Anjali  \n",
            "String after rstrip():   Anjali\n"
          ]
        }
      ],
      "source": [
        "# Initialize a string with leading and trailing spaces\n",
        "example_string = \"  Anjali  \"\n",
        "\n",
        "# Use the lstrip() method to remove leading spaces and print the result\n",
        "print(\"String after lstrip():\", example_string.lstrip())\n",
        "# Outputs the string with leading spaces removed, but trailing spaces are still present\n",
        "\n",
        "# Use the rstrip() method to remove trailing spaces and print the result\n",
        "print(\"String after rstrip():\", example_string.rstrip())\n",
        "# Outputs the string with trailing spaces removed, but leading spaces are still present"
      ]
    },
    {
      "cell_type": "markdown",
      "id": "f7993901",
      "metadata": {
        "id": "f7993901"
      },
      "source": [
        "## Slicing String\n",
        "Slicing a string in Python allows you to extract a portion of the string by specifying a range of indices. You can do this using the syntax string[start:end:step], where start is the starting index (inclusive), end is the ending index (exclusive), and step is the step size for the slice."
      ]
    },
    {
      "cell_type": "code",
      "execution_count": 1,
      "id": "4ce3606d",
      "metadata": {
        "colab": {
          "base_uri": "https://localhost:8080/"
        },
        "id": "4ce3606d",
        "outputId": "997b9652-6c41-49cf-e04e-ac667fe68480"
      },
      "outputs": [
        {
          "output_type": "stream",
          "name": "stdout",
          "text": [
            "Slice 1: Anjal\n",
            "Slice 2: sing\n",
            "Slice 3: ngh\n"
          ]
        }
      ],
      "source": [
        "# Initialize a string variable\n",
        "text = \"Anjalisingh\"\n",
        "\n",
        "# Slice the string from index 0 to 5 (not including 5) and store it in slice1\n",
        "slice1 = text[0:5]  # Extracts \"Anjali\"\n",
        "# Slice the string from index 6 to 10 (not including 10) and store it in slice2\n",
        "slice2 = text[6:10] # Extracts \"singh\"\n",
        "# Slice the string from index 8 to 12 (not including 12) and store it in slice3\n",
        "slice3 = text[8:12] # Extracts \"jali\"\n",
        "\n",
        "# Print the results of the slicing\n",
        "print(\"Slice 1:\", slice1) # Outputs \"Slice 1: Anjali\"\n",
        "print(\"Slice 2:\", slice2) # Outputs \"Slice 2: singh\"\n",
        "print(\"Slice 3:\", slice3) # Outputs \"Slice 3: jali\""
      ]
    },
    {
      "cell_type": "markdown",
      "id": "09b8e65f",
      "metadata": {
        "id": "09b8e65f"
      },
      "source": [
        "## Splitting a String\n",
        "Splitting a string in Python refers to the process of dividing a string into substrings based on a specified delimiter. The split() method is commonly used for this purpose. By default, it splits the string using whitespace characters as the delimiter, but you can specify a different delimiter as an argument."
      ]
    },
    {
      "cell_type": "code",
      "execution_count": null,
      "id": "6dec0cfe",
      "metadata": {
        "id": "6dec0cfe",
        "outputId": "613dd6cc-4756-4178-c128-ecad92d1a1e5"
      },
      "outputs": [
        {
          "name": "stdout",
          "output_type": "stream",
          "text": [
            "['One', 'two', 'three', 'four']\n",
            "['1', '2', '3', '4', '5']\n"
          ]
        }
      ],
      "source": [
        "# Initialize a string variable\n",
        "my_string = 'One two three four'\n",
        "# Split the string into a list of words using default delimiter (space)\n",
        "word_list = my_string.split()\n",
        "# Print the list of words\n",
        "print(word_list)  # Outputs ['One', 'two', 'three', 'four']\n",
        "\n",
        "# Reassign a new string with numbers separated by slashes to the variable\n",
        "my_string = '1/2/3/4/5'\n",
        "# Split the string into a list using '/' as the delimiter\n",
        "number_list = my_string.split('/')\n",
        "# Print the list of numbers as strings\n",
        "print(number_list)  # Outputs ['1', '2', '3', '4', '5']"
      ]
    }
  ],
  "metadata": {
    "kernelspec": {
      "display_name": "Python 3 (ipykernel)",
      "language": "python",
      "name": "python3"
    },
    "language_info": {
      "codemirror_mode": {
        "name": "ipython",
        "version": 3
      },
      "file_extension": ".py",
      "mimetype": "text/x-python",
      "name": "python",
      "nbconvert_exporter": "python",
      "pygments_lexer": "ipython3",
      "version": "3.11.5"
    },
    "colab": {
      "provenance": []
    }
  },
  "nbformat": 4,
  "nbformat_minor": 5
}